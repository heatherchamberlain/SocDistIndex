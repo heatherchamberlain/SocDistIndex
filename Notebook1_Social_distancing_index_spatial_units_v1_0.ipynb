{
 "cells": [
  {
   "cell_type": "markdown",
   "metadata": {},
   "source": [
    "# Ease of social distancing index v1.0\n",
    "## Notebook 1: creation of spatial units\n",
    "\n",
    "Code written by Heather Chamberlain\n",
    "\n",
    "This notebook contains the code needed to create the spatial units for which the ease of social distancing index is subsequently calculated. \n",
    "\n",
    "Once this Notebook has been run to completion, the output should be a set of spatial units with a minimum area of 10,000m^2 (1 hectare). The building footprint datasets from Ecopia/Maxar, used in creating v1.0 of the ease of social distancing index, were produced with output files of building footprints for each UTM zone in a country, the subsequent index calculation was also implemented per UTM zone. Consequently the output of this Notebook is a set of spatial units (polygons) for urban extents in the country specified. If the urban extents within a country span more than one UTM zone, the spatial units will be output in multiple files, with one per UTM zone. These will be the spatial units for which the ease of social distancing index values will be calculated."
   ]
  },
  {
   "cell_type": "code",
   "execution_count": null,
   "metadata": {},
   "outputs": [],
   "source": [
    "import fnmatch\n",
    "import os\n",
    "import arcpy\n",
    "import glob\n",
    "\n",
    "from arcpy.sa import *\n",
    "arcpy.CheckOutExtension(\"Spatial\")\n",
    "\n",
    "from pathlib import Path"
   ]
  },
  {
   "cell_type": "markdown",
   "metadata": {},
   "source": [
    "### 1. Setup the necessary filepaths and directory structure"
   ]
  },
  {
   "cell_type": "markdown",
   "metadata": {},
   "source": [
    "Specify country of interest using 3 letter ISO code, and specify path for home directory"
   ]
  },
  {
   "cell_type": "code",
   "execution_count": null,
   "metadata": {},
   "outputs": [],
   "source": [
    "iso = \"KEN\"\n",
    "folder_iso = \"XXX\"\n",
    "#e.g. iso = \"SSD\"\n",
    "\n",
    "home_folder = Path(\"SUBSTITUTE/FOLDER/PATH/HERE\")\n",
    "\n",
    "print('ISO code specified: ' + str(iso))"
   ]
  },
  {
   "cell_type": "code",
   "execution_count": null,
   "metadata": {
    "scrolled": true
   },
   "outputs": [],
   "source": [
    "#dataset version\n",
    "vers = 'v1_0'\n",
    "\n",
    "#working gdb name\n",
    "gdb_name = str(iso) + \"_working_v1_0_alpha.gdb\""
   ]
  },
  {
   "cell_type": "code",
   "execution_count": null,
   "metadata": {},
   "outputs": [],
   "source": [
    "c_folder = home_folder / folder_iso #path for country folder\n",
    "\n",
    "ssa_folder = home_folder / \"ssa51\" #path for folder with data for all 51 countries in Sub-Saharan Africa\n",
    "\n",
    "data_in_folder = c_folder / \"DataIn\" #path for input data directory for the country of interest\n",
    "w_folder = c_folder / \"Working\" #working directory for the country of interest\n",
    "output_folder = c_folder / \"Output\" #output directory for the country of interest\n",
    "\n",
    "uext_iso_folder = data_in_folder / \"AOIs\"  #path for sub-directory for urban extent (AOI) file \n",
    "adm0_iso_folder = data_in_folder / \"Adm0\"  #path for sub-directory for national boundary file for the country of interest\n",
    "utm_iso_folder = data_in_folder / \"UTMzone_polys\"  #path for sub-directory for UTM zone file"
   ]
  },
  {
   "cell_type": "code",
   "execution_count": null,
   "metadata": {},
   "outputs": [],
   "source": [
    "gdb_path = w_folder / gdb_name\n",
    "if os.path.isdir(str(gdb_path)):\n",
    "    print(\"w_gdb already exists\")\n",
    "else:\n",
    "    print(\"creating w_gdb\")\n",
    "    arcpy.CreateFileGDB_management(str(w_folder), gdb_name) #create gdb\n",
    "w_gdb = w_folder / gdb_name"
   ]
  },
  {
   "cell_type": "markdown",
   "metadata": {},
   "source": [
    "### 2. Prepare the input files needed for creating the spatial units"
   ]
  },
  {
   "cell_type": "markdown",
   "metadata": {},
   "source": [
    "Load the data needed to create the spatial units:\n",
    "- Features such as roads, rivers, railways, supplemented by boundaries of various land use features (from OpenStreetMap)\n",
    "    - It is assumed that OSM features are downloaded in Shapefile format from GeoFabrik \n",
    "- Urban extents (AOIs)\n",
    "- National boundary for the country of interest\n",
    "- Settlement extent boundaries\n",
    "- UTM zones"
   ]
  },
  {
   "cell_type": "markdown",
   "metadata": {},
   "source": [
    "#### a. OSM Features"
   ]
  },
  {
   "cell_type": "code",
   "execution_count": null,
   "metadata": {},
   "outputs": [],
   "source": [
    "feature_list = []"
   ]
  },
  {
   "cell_type": "code",
   "execution_count": null,
   "metadata": {},
   "outputs": [],
   "source": [
    "otherf_folder = data_in_folder / \"Other\"\n",
    "\n",
    "#roads, rivers and waterways from geofabrik\n",
    "for file in os.listdir(otherf_folder):\n",
    "    if fnmatch.fnmatch(file, 'gis_osm_roads_free_1.shp'):\n",
    "        #print(file)\n",
    "        roads_poly = str(otherf_folder / file)\n",
    "        feature_list.append(roads_poly)\n",
    "    elif fnmatch.fnmatch(file, 'gis_osm_waterways_free_1.shp'):\n",
    "        #print(file)\n",
    "        rivers_poly = str(otherf_folder / file)\n",
    "        feature_list.append(rivers_poly)\n",
    "    elif fnmatch.fnmatch(file, 'gis_osm_railways_free_1.shp'):\n",
    "        #print(file)\n",
    "        railways_poly = str(otherf_folder / file)\n",
    "        feature_list.append(railways_poly)"
   ]
  },
  {
   "cell_type": "code",
   "execution_count": null,
   "metadata": {},
   "outputs": [],
   "source": [
    "for file in os.listdir(otherf_folder):\n",
    "    if fnmatch.fnmatch(file, 'gis_osm_landuse_a*.shp'):\n",
    "        #print(file)\n",
    "        landuse_polys = str(otherf_folder / file)\n",
    "        #feature_list.append(landuse_polys)\n",
    "    elif fnmatch.fnmatch(file, 'gis_osm_water_a*.shp'):\n",
    "        #print(file)\n",
    "        water_polys = str(otherf_folder / file)\n",
    "        #feature_list.append(water_polys)\n",
    "    elif fnmatch.fnmatch(file, 'gis_osm_pois_a*.shp'):\n",
    "        #print(file)\n",
    "        poi_polys = str(otherf_folder / file)\n",
    "        #feature_list.append(poi_polys)\n",
    "        \n",
    "#select features of interest\n",
    "#features from landuse file\n",
    "landuse_fclass = ['industrial', 'cemetery', 'military', 'quarry', 'park']\n",
    "\n",
    "expression = \"fclass = '\" + str(landuse_fclass[0]) + \"' or fclass = '\" + str(landuse_fclass[1]) + \\\n",
    "\"' or fclass = '\" + str(landuse_fclass[2]) + \"' or fclass = '\" + str(landuse_fclass[3]) + \"' or fclass = '\" \\\n",
    "+ str(landuse_fclass[4])  + \"'\"\n",
    "\n",
    "selected = arcpy.management.SelectLayerByAttribute(landuse_polys, \"NEW_SELECTION\", expression, None)\n",
    "n_selected = int(arcpy.GetCount_management(selected)[0])\n",
    "\n",
    "if n_selected > 0:\n",
    "    print(\"writing landuse_fclass polys to file. In total there are {} polys selected\".format(n_selected))\n",
    "\n",
    "    #write selected polygons to file \n",
    "    landuse_fclass_polys = str(w_gdb / \"osm_landuse_fclass_polys\")\n",
    "    arcpy.CopyFeatures_management(selected, landuse_fclass_polys, '', None, None, None)\n",
    "    feature_list.append(landuse_fclass_polys)\n",
    "\n",
    "\n",
    "#features from water file\n",
    "water_fclass = ['wetland', 'water', 'reservoir']\n",
    "\n",
    "expression = \"fclass = '\" + str(water_fclass[0]) + \"' or fclass = '\" + str(water_fclass[1]) + \\\n",
    "\"' or fclass = '\" + str(water_fclass[2]) + \"'\"\n",
    "\n",
    "selected = arcpy.management.SelectLayerByAttribute(water_polys, \"NEW_SELECTION\", expression, None)\n",
    "n_selected = int(arcpy.GetCount_management(selected)[0])\n",
    "\n",
    "if n_selected > 0:\n",
    "    print(\"writing water_fclass polys to file. In total there are {} polys selected\".format(n_selected))\n",
    "\n",
    "    #write selected polygons to file \n",
    "    water_fclass_polys = str(w_gdb / \"osm_water_fclass_polys\")\n",
    "    arcpy.CopyFeatures_management(selected, water_fclass_polys, '', None, None, None)\n",
    "    feature_list.append(water_fclass_polys)\n",
    "\n",
    "     \n",
    "#features from pois file\n",
    "pois_fclass = ['golf_course', 'park', 'university', 'hospital']  \n",
    "\n",
    "expression = \"fclass = '\" + str(pois_fclass[0]) + \"' or fclass = '\" + str(pois_fclass[1]) + \\\n",
    "\"' or fclass = '\" + str(pois_fclass[2]) + \"' or fclass = '\" + str(pois_fclass[3]) + \"'\"\n",
    "\n",
    "selected = arcpy.management.SelectLayerByAttribute(poi_polys, \"NEW_SELECTION\", expression, None)\n",
    "n_selected = int(arcpy.GetCount_management(selected)[0])\n",
    "\n",
    "if n_selected > 0:\n",
    "    print(\"writing poi_fclass polys to file. In total there are {} polys selected\".format(n_selected))\n",
    "\n",
    "    #write selected polygons to file \n",
    "    poi_fclass_polys = str(w_gdb / \"osm_poi_fclass_polys\")\n",
    "    arcpy.CopyFeatures_management(selected, poi_fclass_polys, '', None, None, None)\n",
    "    feature_list.append(poi_fclass_polys)\n"
   ]
  },
  {
   "cell_type": "code",
   "execution_count": null,
   "metadata": {},
   "outputs": [],
   "source": [
    "residential_polys = int(1) #change to 0 if residential polys should be excluded from input data polygons\n",
    "\n",
    "if residential_polys == 1:\n",
    "    print(\"residential area polygons from OSM ARE being included...\")\n",
    "\n",
    "    expression = \"fclass = 'residential'\" \n",
    "    selected = arcpy.management.SelectLayerByAttribute(landuse_polys, \"NEW_SELECTION\", expression, None)\n",
    "    n_selected = int(arcpy.GetCount_management(selected)[0])\n",
    "\n",
    "    if n_selected > 0:\n",
    "        print(\"writing residential_fclass polys to file. In total there are {} polys selected\".format(n_selected))\n",
    "\n",
    "        #write selected polygons to file \n",
    "        residential_fclass_polys = str(w_gdb / \"osm_residential_fclass_polys\")\n",
    "        arcpy.CopyFeatures_management(selected, residential_fclass_polys, '', None, None, None)\n",
    "    \n",
    "else:\n",
    "    print(\"residential area polygons from OSM are NOT being included\")"
   ]
  },
  {
   "cell_type": "code",
   "execution_count": null,
   "metadata": {},
   "outputs": [],
   "source": [
    "other_osm_list = ['ZMB', 'NGA', 'BWA', 'SEN', 'MDG', 'COD', 'ETH', 'KEN', 'ZAF', 'CIV', 'CMR', 'ERI', 'TZA', 'UGA'] \n",
    "#list of iso codes for countries which need to use other_osm2_polys.shp / other_osm2_lines.shp\n",
    "\n",
    "if iso.upper() in other_osm_list:\n",
    "    for file in os.listdir(otherf_folder):\n",
    "        if fnmatch.fnmatch(file, 'other_osm2_polys.shp'):\n",
    "            print(file)\n",
    "            other_polys = str(otherf_folder / file)\n",
    "            feature_list.append(other_polys)\n",
    "        elif fnmatch.fnmatch(file, 'other_osm2_lines.shp'):\n",
    "            print(file)\n",
    "            other_lines = str(otherf_folder / file)\n",
    "            feature_list.append(other_lines)\n",
    "else:\n",
    "    for file in os.listdir(otherf_folder):\n",
    "        if fnmatch.fnmatch(file, '*_w.shp'):\n",
    "            print(file)\n",
    "            otherf_way = str(otherf_folder / file)\n",
    "            feature_list.append(otherf_way)\n",
    "            arcpy.management.RepairGeometry(otherf_way, \"DELETE_NULL\", \"OGC\")\n",
    "        elif fnmatch.fnmatch(file, '*_r.shp'):\n",
    "            print(file)\n",
    "            otherf_rel = str(otherf_folder / file)\n",
    "            feature_list.append(otherf_rel)\n",
    "            arcpy.management.RepairGeometry(otherf_rel, \"DELETE_NULL\", \"OGC\")\n",
    "    "
   ]
  },
  {
   "cell_type": "markdown",
   "metadata": {},
   "source": [
    "#### b. Urban extents"
   ]
  },
  {
   "cell_type": "code",
   "execution_count": null,
   "metadata": {},
   "outputs": [],
   "source": [
    "uext_poly_iso = str(uext_iso_folder / (\"uext_polys_\" + str(iso) + \".shp\"))\n",
    "print(uext_poly_iso)"
   ]
  },
  {
   "cell_type": "markdown",
   "metadata": {},
   "source": [
    "#### c. National boundary for the country of interest"
   ]
  },
  {
   "cell_type": "code",
   "execution_count": null,
   "metadata": {},
   "outputs": [],
   "source": [
    "adm0_poly = str(adm0_iso_folder / (\"adm0_poly_\" + str(iso) + \".shp\")) #adm0 poly for each country has been pre-processed so just need to specify file path\n",
    "print(adm0_poly)"
   ]
  },
  {
   "cell_type": "markdown",
   "metadata": {},
   "source": [
    "#### d. Settlement extent boundaries"
   ]
  },
  {
   "cell_type": "code",
   "execution_count": null,
   "metadata": {},
   "outputs": [],
   "source": [
    "#specify path of merged bua and ssa settlement extent polys\n",
    "sett_ext_folder = home_folder / iso / \"DataIn/SettlementExtents\"\n",
    "iso_bua_ssa = str(sett_ext_folder / (str(iso) + \"_bua_ssa_extents.shp\"))"
   ]
  },
  {
   "cell_type": "markdown",
   "metadata": {},
   "source": [
    "#### e. UTM zones"
   ]
  },
  {
   "cell_type": "code",
   "execution_count": null,
   "metadata": {},
   "outputs": [],
   "source": [
    "utm_folder = home_folder / \"UTM\"\n",
    "utm_zones = str(utm_folder / \"UTM_zones_all.shp\")"
   ]
  },
  {
   "cell_type": "markdown",
   "metadata": {},
   "source": [
    "### 3. Processing to create initial polygons from input features, constrained to urban extents"
   ]
  },
  {
   "cell_type": "markdown",
   "metadata": {},
   "source": [
    "Clip uext polys to adm0 polygon"
   ]
  },
  {
   "cell_type": "code",
   "execution_count": null,
   "metadata": {},
   "outputs": [],
   "source": [
    "uext_poly = str(uext_iso_folder / (\"uext_polys_\" + str(iso) + \"_adm0.shp\"))\n",
    "arcpy.analysis.Clip(uext_poly_iso, adm0_poly, uext_poly, None)"
   ]
  },
  {
   "cell_type": "markdown",
   "metadata": {},
   "source": [
    "Extract OSM features (roads, rivers, railways etc) to AOI and create polygon features. Do not include residential areas from OSM"
   ]
  },
  {
   "cell_type": "code",
   "execution_count": null,
   "metadata": {},
   "outputs": [],
   "source": [
    "#firstly create version of polygons without OSM residential area polygons\n",
    "clip_area = str(uext_poly)\n",
    "\n",
    "clip_features = []\n",
    "\n",
    "for file in feature_list:\n",
    "    data_in = file\n",
    "    #print(data_in)\n",
    "    data_out = str(w_gdb / Path(file).stem) + \"_AOIclip\"\n",
    "    #print(data_out)\n",
    "    \n",
    "    if arcpy.Exists(data_out):\n",
    "        print(\"file already exists - skipped\")\n",
    "    else:\n",
    "        print(\"clipping\")\n",
    "        arcpy.analysis.Clip(data_in, clip_area, data_out, None)\n",
    "    \n",
    "    clip_features.append(data_out)\n",
    "\n",
    "#add the uext poly to list \n",
    "clip_features.append(uext_poly)\n",
    "#print(clip_features)\n",
    "\n",
    "#Run feature to polygon to create polygon output\n",
    "in_features = clip_features\n",
    "area_polys_i1a = str(w_gdb / \"area_polys_i1a\")\n",
    "arcpy.management.FeatureToPolygon(in_features, area_polys_i1a, None, \"NO_ATTRIBUTES\", None)"
   ]
  },
  {
   "cell_type": "markdown",
   "metadata": {},
   "source": [
    "Now do the same process, but also include the OSM residential area polygons. In this step a second set of polygons are created. This second set of polygons includes a larger number of polygons because of the additional sub-division created by the addition of the OSM residential area polygons. This second set of polygons will only be used in the locations on the urban fringe where the polygons created from the previous codeblock are too large. The following steps will identify these and substitute in the sub-divided polygons."
   ]
  },
  {
   "cell_type": "code",
   "execution_count": null,
   "metadata": {},
   "outputs": [],
   "source": [
    "feature_list.append(residential_fclass_polys)\n",
    "\n",
    "for file in feature_list:\n",
    "    data_in = file\n",
    "    #print(data_in)\n",
    "    data_out = str(w_gdb / Path(file).stem) + \"_AOIclip\"\n",
    "    #print(data_out)\n",
    "    \n",
    "    if arcpy.Exists(data_out):\n",
    "        print(\"file already exists - skipped\")\n",
    "    else:\n",
    "        print(\"clipping\")\n",
    "        arcpy.analysis.Clip(data_in, clip_area, data_out, None)\n",
    "    \n",
    "    clip_features.append(data_out)\n",
    "    \n",
    "#print(clip_features)\n",
    "\n",
    "#Run feature to polygon to create polygon output, this time with OSM residential polygons also\n",
    "in_features = clip_features\n",
    "area_polys_r = str(w_gdb / \"area_polys_r\")\n",
    "arcpy.management.FeatureToPolygon(in_features, area_polys_r, None, \"NO_ATTRIBUTES\", None)\n"
   ]
  },
  {
   "cell_type": "markdown",
   "metadata": {},
   "source": [
    "Calculate area of each polygon and select those which are very large (>100,000m2)"
   ]
  },
  {
   "cell_type": "code",
   "execution_count": null,
   "metadata": {},
   "outputs": [],
   "source": [
    "#add blank field for polygon area\n",
    "area_field = \"P_AREA\"\n",
    "arcpy.AddField_management(area_polys_i1a, area_field, \"DOUBLE\")\n",
    "\n",
    "#calculate area of each polygon in area_polys_i1 dataset (without residential polys)\n",
    "calc_field = \"P_AREA AREA_GEODESIC\"\n",
    "arcpy.management.CalculateGeometryAttributes(area_polys_i1a, calc_field, '', \"SQUARE_METERS\", None, \"SAME_AS_INPUT\")\n",
    "\n",
    "#select polygons with area >100,000m2\n",
    "expression = \"P_AREA >= 100000\"\n",
    "area_polys_i1a_areasel = arcpy.management.SelectLayerByAttribute(area_polys_i1a, \"NEW_SELECTION\", expression, None)"
   ]
  },
  {
   "cell_type": "markdown",
   "metadata": {},
   "source": [
    "Select subset of very large polygons (>100,000m2) that are crossed by outline of BUA or SSA polygons, i.e. those considered to be on the urban fringe and in need of further sub-division if possible."
   ]
  },
  {
   "cell_type": "code",
   "execution_count": null,
   "metadata": {},
   "outputs": [],
   "source": [
    "#from already selected, select the subset which are crossed by the outline of BUA or SSA polygons (sub)\n",
    "area_polys_i1a_areasel_sub = arcpy.management.SelectLayerByLocation(area_polys_i1a_areasel, \"CROSSED_BY_THE_OUTLINE_OF\", iso_bua_ssa, None, \"SUBSET_SELECTION\", \"NOT_INVERT\")\n",
    "\n",
    "#export selected (subset x)\n",
    "out_file_x = str(w_gdb / \"area_polys_i1_subset_x\")\n",
    "arcpy.CopyFeatures_management(area_polys_i1a_areasel_sub, out_file_x, '', None, None, None)"
   ]
  },
  {
   "cell_type": "markdown",
   "metadata": {},
   "source": [
    "Invert the selection so that all other polygons (not needing to be sub-divided) are selected and save these to file"
   ]
  },
  {
   "cell_type": "code",
   "execution_count": null,
   "metadata": {},
   "outputs": [],
   "source": [
    "#invert selection \n",
    "area_polys_i1a_areasel_sub_inv = arcpy.management.SelectLayerByAttribute(area_polys_i1a_areasel_sub, \"SWITCH_SELECTION\", '', \"NON_INVERT\")\n",
    "\n",
    "#export inverted selection (subset y)\n",
    "out_file_y = str(w_gdb / \"area_polys_i1_subset_y\")\n",
    "arcpy.CopyFeatures_management(area_polys_i1a_areasel_sub_inv, out_file_y, '', None, None, None)"
   ]
  },
  {
   "cell_type": "markdown",
   "metadata": {},
   "source": [
    "Select the subset of polygons (created with the addition of OSM residential areas) that are located on the urban fringe that need to be substituted in for very large polygons on the urban fringe. Save these to file, and then merge in to create a new complete set of polygons."
   ]
  },
  {
   "cell_type": "code",
   "execution_count": null,
   "metadata": {},
   "outputs": [],
   "source": [
    "#from area_polys_r (polys including residential area boundaries), select those that are located within subset x\n",
    "area_polys_r_withinx_sub = arcpy.management.SelectLayerByLocation(area_polys_r, \"WITHIN\", out_file_x, None, \"NEW_SELECTION\", \"NOT_INVERT\")\n",
    "\n",
    "#export selected (subset z)\n",
    "out_file_z = str(w_gdb / \"area_polys_i1_subset_z\")\n",
    "arcpy.CopyFeatures_management(area_polys_r_withinx_sub, out_file_z, '', None, None, None)\n",
    "\n",
    "#merge subset y (out_file_y) and subset z (out_file_z)\n",
    "merge_list = [out_file_y, out_file_z]\n",
    "area_polys_i1 = str(w_gdb / \"area_polys_i1\")\n",
    "arcpy.management.Merge(merge_list, area_polys_i1)"
   ]
  },
  {
   "cell_type": "markdown",
   "metadata": {},
   "source": [
    "Clean up attribute table to remove unnecessary fields"
   ]
  },
  {
   "cell_type": "code",
   "execution_count": null,
   "metadata": {},
   "outputs": [],
   "source": [
    "field_list_del = []\n",
    "\n",
    "#list all fields. Except for specified fields, add field name to list of fields to be deleted\n",
    "fields = arcpy.ListFields(area_polys_i1)\n",
    "for field in fields:\n",
    "    if field.name == \"OBJECTID\":\n",
    "        print(\"{} is not deletable\". format(field.name))\n",
    "    elif field.name == \"Shape\":\n",
    "        print(\"{} is not deletable\". format(field.name))\n",
    "    elif field.name == \"Shape_Area\":\n",
    "        print(\"{} is not deletable\". format(field.name))\n",
    "    elif field.name == \"Shape_Length\":\n",
    "        print(\"{} is not deletable\". format(field.name))\n",
    "    else:\n",
    "        field_list_del.append(field.name) #append field to list\n",
    "\n",
    "print(\"There are {} fields to be deleted\".format(len(field_list_del)))\n",
    "if len(field_list_del) > 0:\n",
    "    arcpy.DeleteField_management(area_polys_i1, field_list_del) #delete fields\n",
    "\n",
    "fields = arcpy.ListFields(area_polys_i1)\n",
    "print(\"Remaining fields:\")\n",
    "for field in fields:\n",
    "    print(\"{0} is a type of {1} with a length of {2}\".format(field.name, field.type, field.length))\n",
    "    "
   ]
  },
  {
   "cell_type": "markdown",
   "metadata": {},
   "source": [
    "Add fields with urban extent ID (uext_id) and country ISO code (adm0_ISO3)"
   ]
  },
  {
   "cell_type": "code",
   "execution_count": null,
   "metadata": {},
   "outputs": [],
   "source": [
    "#spatial join to add uext_id and adm0_ISO3 fields\n",
    "area_polys_i = str(w_gdb / \"area_polys_initial\")\n",
    "arcpy.SpatialJoin_analysis(area_polys_i1, uext_poly, area_polys_i)\n",
    "\n",
    "#remove unnecessary fields\n",
    "field_list_del2 = [\"TARGET_FID\", \"Join_Count\"]\n",
    "arcpy.DeleteField_management(area_polys_i, field_list_del2)"
   ]
  },
  {
   "cell_type": "markdown",
   "metadata": {},
   "source": [
    "### 4. Project the initial polygons to the approriate UTM zone based on their location"
   ]
  },
  {
   "cell_type": "markdown",
   "metadata": {},
   "source": [
    "Create list of UTM zones which contain polygons"
   ]
  },
  {
   "cell_type": "code",
   "execution_count": null,
   "metadata": {},
   "outputs": [],
   "source": [
    "utmzones_folder = c_folder / \"UTMzones\"\n",
    "utm_zones_lyr = str(utmzones_folder / \"utm_zones_lyr\")\n",
    "\n",
    "#######\n",
    "# #select UTM zone polygons within which there are polygons in the area_polys_initial dataset\n",
    "utm_zones_lyr = str(w_gdb / \"utm_zones_lyr\")\n",
    "arcpy.MakeFeatureLayer_management(utm_zones, utm_zones_lyr) \n",
    "arcpy.SelectLayerByLocation_management(utm_zones_lyr, 'CONTAINS', area_polys_i)\n",
    "#######\n",
    "\n",
    "s_count = int(arcpy.GetCount_management(utm_zones_lyr)[0]) \n",
    "print(s_count)\n",
    "\n",
    "#add the UTM zone ID for those zones to a list\n",
    "utm_zones_list = []\n",
    "with arcpy.da.SearchCursor(utm_zones_lyr, 'utm_zone') as cursor:\n",
    "    for row in cursor:\n",
    "        utm_zones_list.append(row[0])        \n",
    "print(utm_zones_list)"
   ]
  },
  {
   "cell_type": "markdown",
   "metadata": {},
   "source": [
    "Subset the polygons into UTM zones, by selecting all polygons within the boundary of UTM zones, and export polygons into subsets for each UTM zone."
   ]
  },
  {
   "cell_type": "code",
   "execution_count": null,
   "metadata": {},
   "outputs": [],
   "source": [
    "print(\"for \" + str(iso) + \" split data into \" + str(s_count) + \" UTM zones: \" + str(utm_zones_list))\n",
    "\n",
    "#for each UTM zone number in the list, subset all polygons within boundary of UTM zone\n",
    "area_polys_i_lyr = str(area_polys_i + \"_lyr\")\n",
    "arcpy.MakeFeatureLayer_management(area_polys_i, area_polys_i_lyr) \n",
    "\n",
    "for zone in utm_zones_list:\n",
    "    query = \"UTMzone_\" + str(zone) + \".shp\"\n",
    "    for file in os.listdir(utm_iso_folder): #change to utm_folder if not pre-processed utm zones for each country\n",
    "        if fnmatch.fnmatch(file, query):\n",
    "            utm_lyr = str(w_gdb / str(Path(file).stem + \"_lyr\"))\n",
    "            in_file = str(utm_folder / file)\n",
    "            arcpy.MakeFeatureLayer_management(in_file, utm_lyr) \n",
    "            \n",
    "            #select area polygons with center in UTM zone\n",
    "            arcpy.SelectLayerByLocation_management(area_polys_i_lyr, 'HAVE_THEIR_CENTER_IN', utm_lyr)\n",
    "            n_polys = int(arcpy.GetCount_management(area_polys_i_lyr)[0]) \n",
    "            \n",
    "            #write selected polygons to file \n",
    "            area_polys_i_zones_wgs84 = str(w_gdb / (\"area_polys_i_\" + str(zone) + \"_WGS84\"))\n",
    "            arcpy.CopyFeatures_management(area_polys_i_lyr, area_polys_i_zones_wgs84, '', None, None, None)\n",
    "            \n",
    "            print(\"There are {} polygons with their centre within {}\".format(n_polys, file))"
   ]
  },
  {
   "cell_type": "markdown",
   "metadata": {},
   "source": [
    "For the subset of polygons within each UTM zone boundary, project the polygons to that UTM zone projection"
   ]
  },
  {
   "cell_type": "code",
   "execution_count": null,
   "metadata": {},
   "outputs": [],
   "source": [
    "for zone in utm_zones_list:\n",
    "    utm_id = 'WGS 1984 UTM Zone ' + str(zone)\n",
    "    print(utm_id)\n",
    "    \n",
    "    # Set output coordinate system\n",
    "    outCS = arcpy.SpatialReference(utm_id)\n",
    "    \n",
    "    # run project tool\n",
    "    area_polys_i_zones_wgs84 = str(w_gdb / (\"area_polys_i_\" + str(zone) + \"_WGS84\"))\n",
    "    file_out = str(w_gdb / (\"area_polys_i_zones_utm\" + str(zone)))\n",
    "    arcpy.Project_management(area_polys_i_zones_wgs84, file_out, outCS)\n",
    "    \n",
    "    #calculate area for each polygon\n",
    "    arcpy.management.AddGeometryAttributes(file_out, \"AREA\", \"METERS\", \"SQUARE_METERS\", outCS)"
   ]
  },
  {
   "cell_type": "markdown",
   "metadata": {},
   "source": [
    "### 5. Processing  of the initial projected polygons to create spatial units"
   ]
  },
  {
   "cell_type": "markdown",
   "metadata": {},
   "source": [
    "First, identify any island polygons (those with zero neighbours)"
   ]
  },
  {
   "cell_type": "code",
   "execution_count": null,
   "metadata": {},
   "outputs": [],
   "source": [
    "#for each polygon, identify all neighbouring polygons\n",
    "for zone in utm_zones_list:\n",
    "    in_features = str(w_gdb / (\"area_polys_i_zones_utm\" + str(zone)))\n",
    "    out_table = str(in_features) + \"_nneighbours\"\n",
    "    arcpy.PolygonNeighbors_analysis(in_features, out_table)\n",
    "    \n",
    "    #summarise outputs so 1 row per polygon\n",
    "    out_table_smry = str(out_table) + \"_summary\"\n",
    "    arcpy.Statistics_analysis(out_table, out_table_smry, [[\"src_OBJECTID\", \"COUNT\"]], \"src_OBJECTID\")  "
   ]
  },
  {
   "cell_type": "markdown",
   "metadata": {},
   "source": [
    "Check the area of any island polygons identified. If the area is less than specified area threshold then these polygons will need to be excluded from the subsequent dissolve step."
   ]
  },
  {
   "cell_type": "code",
   "execution_count": null,
   "metadata": {},
   "outputs": [],
   "source": [
    "#join the neighbour output to the polygons - if no joined features, then no neighbour\n",
    "\n",
    "islands_to_merge = []\n",
    "temp_island_list = []\n",
    "\n",
    "for zone in utm_zones_list:\n",
    "    \n",
    "    in_features = str(w_gdb / (\"area_polys_i_zones_utm\" + str(zone)))\n",
    "    out_table_smry = str(in_features) + \"_nneighbours_summary\"\n",
    "    \n",
    "    #add blank field for number of neighbours (to be calculated after join)\n",
    "    n_neighbours_field = \"n_NEIGHBOURS\"\n",
    "    arcpy.AddField_management(in_features, n_neighbours_field, \"DOUBLE\")\n",
    "    \n",
    "    #join number of neighbours - if after join values are null then no neighbours\n",
    "    in_field = \"OBJECTID\"\n",
    "    join_table = out_table_smry\n",
    "    join_field = \"src_OBJECTID\"\n",
    "    temp = arcpy.AddJoin_management(in_features, in_field, join_table, join_field)\n",
    "    \n",
    "    #update n_neighbours_field with number of neighbours\n",
    "    calc_expression = \"!\" + str(Path(join_table).stem) + \".FREQUENCY!\"\n",
    "    arcpy.management.CalculateField(temp, n_neighbours_field, calc_expression, \"PYTHON3\", '', \"DOUBLE\")\n",
    "    \n",
    "    #remove join\n",
    "    arcpy.RemoveJoin_management(temp)\n",
    "    \n",
    "    #write to file\n",
    "    polys_n_neighbours = str(w_gdb / (str(Path(in_features).stem) + \"_nn\"))\n",
    "    arcpy.CopyFeatures_management(temp, polys_n_neighbours, '', None, None, None)\n",
    "    print(\"written to file\")\n",
    "    \n",
    "    #select any polygons with no neighbours - islands\n",
    "    where = str(n_neighbours_field) + \" IS NULL\"\n",
    "    selected = arcpy.management.SelectLayerByAttribute(polys_n_neighbours, \"NEW_SELECTION\", where, None)\n",
    "    \n",
    "    #select only islands with area greater than 10,000m^2, leaving only islands with area <10,000m^2 \n",
    "    #before subsequent eliminate step\n",
    "    where = \"POLY_AREA >= 10000\"\n",
    "    selected1 = arcpy.management.SelectLayerByAttribute(selected, \"REMOVE_FROM_SELECTION\", where, None)\n",
    "    \n",
    "    n_selected = int(arcpy.GetCount_management(selected1)[0]) #number of islands with area less than 10,000m^2\n",
    "    print('n_selected: {}'.format(n_selected))\n",
    "    \n",
    "    if n_selected > 0:\n",
    "        \n",
    "        #from existing selection of \"islands\", now select any which have neighbours in a polygon file from a neighbouring utm zone\n",
    "        islands_check = arcpy.management.SelectLayerByLocation(selected1, \"SHARE_A_LINE_SEGMENT_WITH\", area_polys_i, None, \"SUBSET_SELECTION\", \"NOT_INVERT\")\n",
    "        \n",
    "        n_sub_sel = int(arcpy.GetCount_management(islands_check)[0]) #number of islands which do actually have a shared line segment\n",
    "        print('n_sub_sel: {}'.format(n_sub_sel))\n",
    "        \n",
    "        n_sel = int(n_selected) - int(n_sub_sel)\n",
    "        print('n_sel: {}'.format(n_sel))\n",
    "        \n",
    "        #and write out selected to file\n",
    "        temp_i = str(w_gdb / (\"temp_i\" + str(zone)))\n",
    "        arcpy.CopyFeatures_management(islands_check, temp_i, '', None, None, None)\n",
    "        \n",
    "        temp_island_list.append(temp_i)\n",
    "        print('temp_island_list: {}'.format(temp_island_list))\n",
    "        \n",
    "\n",
    "        #if n_sel > 0:\n",
    "        print(\"there are islands with area less than 10,000m2\")\n",
    "\n",
    "        #write selected polygons (tiny islands) to file \n",
    "        tiny_islands = str(w_gdb / (\"tiny_islands_\" + str(zone)))\n",
    "        arcpy.CopyFeatures_management(selected1, tiny_islands, '', None, None, None)\n",
    "\n",
    "        islands_to_merge.append(tiny_islands)\n",
    "\n",
    "        #switch selection to just the remaining polygons (all except islands) and write to file\n",
    "        selected_r = arcpy.SelectLayerByAttribute_management(selected1, \"SWITCH_SELECTION\")\n",
    "        polys_r = str(w_gdb / (\"area_polys_i_zones_utm_nislands\" + str(zone)))\n",
    "        arcpy.CopyFeatures_management(selected_r, polys_r, '', None, None, None)\n",
    "\n",
    "    else:\n",
    "        #write out file for all if no islands\n",
    "        #print('else2 - write out file.............')\n",
    "        #switch selection to just the remaining polygons (all except islands) and write to file\n",
    "        polys_r = str(w_gdb / (\"area_polys_i_zones_utm_nislands\" + str(zone)))\n",
    "        arcpy.CopyFeatures_management(polys_n_neighbours, polys_r, '', None, None, None)\n",
    "    \n",
    "    print('')\n",
    "    \n",
    "print('islands_to_merge: {}'.format(islands_to_merge))\n",
    "              \n",
    "if len(islands_to_merge) == 0:\n",
    "    print('there are no tiny islands with area less than 10,000m2')\n",
    "else:\n",
    "    print('there are tiny islands with area less than 10,000m2, these have been written out to file(s):')\n",
    "    print(islands_to_merge)\n",
    "\n",
    "print('temp_island_list: {}'.format(temp_island_list))   "
   ]
  },
  {
   "cell_type": "code",
   "execution_count": null,
   "metadata": {},
   "outputs": [],
   "source": [
    "#If there are islands created by polygons spanning UTM zones...\n",
    "a_list = []\n",
    "\n",
    "if len(temp_island_list) > 0:\n",
    "    for zone in utm_zones_list: #iterate through polys associated with each UTM zone\n",
    "        print(zone)\n",
    "        polygons = str(w_gdb / (\"area_polys_i_zones_utm_nislands\" + str(zone)))\n",
    "        \n",
    "        for islands in temp_island_list:\n",
    "            print(islands)\n",
    "            \n",
    "            #check if any of the islands share a line segment with any of the other polygons (in each UTM zone)\n",
    "            islands_check = arcpy.management.SelectLayerByLocation(islands, \"SHARE_A_LINE_SEGMENT_WITH\", polygons, None, \"NEW_SELECTION\", \"NOT_INVERT\")\n",
    "            \n",
    "            ni_sel = int(arcpy.GetCount_management(islands_check)[0]) #number of island polygons neighbouring with polygons in particular UTM zone\n",
    "            print('ni_sel: {}'.format(ni_sel))\n",
    "            \n",
    "            if ni_sel > 0:\n",
    "                print('islands file: {}, has neighbours in file {}'.format(islands, polygons))\n",
    "                \n",
    "                #write out selected island polygons to file (A)\n",
    "                islands_A = str(w_gdb / (\"tempA_\" + str(Path(islands).stem) + \"_\" + str(zone)))\n",
    "                arcpy.CopyFeatures_management(islands_check, islands_A, '', None, None, None)\n",
    "                \n",
    "                #invert selection and write any remaining islands to file (B)\n",
    "                islands_B = str(w_gdb / (\"tempB_\" + str(Path(islands).stem) + \"_\" + str(zone)))\n",
    "                islands_check_z = arcpy.management.SelectLayerByLocation(islands_check, \"INTERSECT\", None, None, \"SWITCH_SELECTION\", \"NOT_INVERT\")\n",
    "                arcpy.CopyFeatures_management(islands_check_z, islands_B, '', None, None, None)\n",
    "                \n",
    "                #append selected island polygons (A) into neighbouring area polygons dataset\n",
    "                arcpy.management.Append(islands_A, polygons)\n",
    "                \n",
    "                a_list.append(islands_A)\n",
    "                \n",
    "            else:\n",
    "                print('no neighbours for islands file: {} with file {}'.format(islands, polygons))  \n",
    "            \n",
    "            print('')"
   ]
  },
  {
   "cell_type": "markdown",
   "metadata": {},
   "source": [
    "Select any unit polygons that are smaller than the specified threshold (10,000m^2), and combine these with neighbouring polys. Repeat this process until no polygons with area greater than the threshold remain. The output of this step should be a finalised polygon dataset (for each UTM zone)."
   ]
  },
  {
   "cell_type": "code",
   "execution_count": null,
   "metadata": {},
   "outputs": [],
   "source": [
    "spatial_unit_file_list = []\n",
    "\n",
    "for zone in utm_zones_list:\n",
    "    \n",
    "    polys_in = str(w_gdb / (\"area_polys_i_zones_utm_nislands\" + str(zone)))\n",
    "\n",
    "    print(\"polys_in: {}\".format(polys_in))\n",
    "\n",
    "    #select polygons with area lt 10,000m2\n",
    "    where = \"POLY_AREA < 10000\"\n",
    "    selected = arcpy.management.SelectLayerByAttribute(polys_in, \"NEW_SELECTION\", where, None)\n",
    "\n",
    "    #get count of number of polys selected\n",
    "    poly_count = int(arcpy.GetCount_management(selected)[0]) \n",
    "    #print(poly_count)\n",
    "    print(\"Initially, in this file there are {} polygons with area less than 10000m^2\".format(poly_count))\n",
    "\n",
    "    #create new list with poly_count as first value\n",
    "    poly_count_list = [poly_count]\n",
    "    \n",
    "    #####\n",
    "    if poly_count == 0:\n",
    "        polys_out = polys_in\n",
    "    #####\n",
    "    \n",
    "    i = 0\n",
    "    while poly_count > 0:\n",
    "        i = i+1\n",
    "        print('i = ' + str(i))\n",
    "        \n",
    "        #run eliminate\n",
    "        polys_out = str(polys_in) + \"_elim\" + str(i)\n",
    "        arcpy.management.Eliminate(selected, polys_out, \"LENGTH\", '', None)\n",
    "    \n",
    "        # Set output coordinate system\n",
    "        utm_id = 'WGS 1984 UTM Zone ' + str(zone)\n",
    "        outCS = arcpy.SpatialReference(utm_id)\n",
    "        \n",
    "        #recalc area\n",
    "        calc_field = \"POLY_AREA AREA\"\n",
    "        arcpy.management.CalculateGeometryAttributes(polys_out, calc_field, '', \"SQUARE_METERS\", outCS, \"SAME_AS_INPUT\")\n",
    "        \n",
    "        #select polygons with area lt 10,000m2\n",
    "        selected = arcpy.management.SelectLayerByAttribute(polys_out, \"NEW_SELECTION\", \"POLY_AREA < 10000\", None) #check area field name\n",
    "    \n",
    "        #get count of number of polys selected\n",
    "        poly_count = int(arcpy.GetCount_management(selected)[0]) \n",
    "        print(\"After iteration {}, there are {} remaining polygons with area less than 10000m^2\".format(i, poly_count))\n",
    "        \n",
    "        #in case of remaining island polygons that can't be dissolved\n",
    "        poly_count_list.append(poly_count)\n",
    "        \n",
    "        if (poly_count_list[i]-poly_count_list[i-1]) == 0:\n",
    "            print(\"poly_count = {}. There are {} remaining with area less than 10,000m^2, however \\\n",
    "            there are no further options for eliminating these polygons by merging with neighbours.\".format(poly_count, poly_count))\n",
    "            \n",
    "            #set poly_count to be 0 i.e. stop eliminate loop\n",
    "            poly_count = 0\n",
    "            \n",
    "            #write out remaining polys (islands) to file\n",
    "            tiny_islands2 = str(w_gdb / (\"tiny_islands2_\" + str(zone)))\n",
    "            arcpy.CopyFeatures_management(selected, tiny_islands2, '', None, None, None)\n",
    "        \n",
    "            islands_to_merge.append(tiny_islands2)\n",
    "            \n",
    "            print(\"loop exited)\")\n",
    "             \n",
    "    #get count of number of polys selected\n",
    "    print(\"After iteration {}, there are {} remaining polygons with area less than 10000m^2\".format(i, poly_count))\n",
    "    print(\"islands to merge list: {}\".format(islands_to_merge))\n",
    "    \n",
    "    \n",
    "    #write out final output from eliminate iterations\n",
    "    selected_z = arcpy.management.SelectLayerByAttribute(polys_out, \"NEW_SELECTION\", \"POLY_AREA >= 10000\", None) #check area field name\n",
    "    area_polys_elimf = str(w_gdb / (\"area_polys_elimf_UTM\" + str(zone)))\n",
    "    arcpy.CopyFeatures_management(selected_z, area_polys_elimf, '', None, None, None)\n",
    "    \n",
    "    spatial_unit_file_list.append(area_polys_elimf)\n",
    "    print()\n",
    "    \n",
    "print(\"Spatial unit files: {}\".format(spatial_unit_file_list))"
   ]
  },
  {
   "cell_type": "markdown",
   "metadata": {},
   "source": [
    "Once this Notebook has been run to completion, the output should be a set of spatial units with a minimum area of 10,000m^2 (1 hectare). The building footprint datasets from Ecopia/Maxar, used in creating v1.0 of the ease of social distancing index, were produced with output files of building footprints for each UTM zone in a country, the subsequent index calculation was also implemented per UTM zone. Consequently the output of this Notebook is a set of spatial units (polygons) for urban extents in the country specified. If the urban extents within a country span more than one UTM zone, the spatial units will be output in multiple files, with one per UTM zone. These will be the spatial units for which the ease of social distancing index values will be calculated."
   ]
  }
 ],
 "metadata": {
  "kernelspec": {
   "display_name": "ArcGISPro",
   "language": "Python",
   "name": "python3"
  },
  "language_info": {
   "file_extension": ".py",
   "name": "python",
   "version": "3"
  }
 },
 "nbformat": 4,
 "nbformat_minor": 2
}
